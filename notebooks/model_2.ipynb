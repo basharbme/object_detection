{
 "cells": [
  {
   "cell_type": "markdown",
   "metadata": {
    "colab_type": "text",
    "id": "-PbJF5oyPi_5"
   },
   "source": [
    "# Neural Network Image Classification Model"
   ]
  },
  {
   "cell_type": "markdown",
   "metadata": {
    "colab_type": "text",
    "id": "9IZkwG9hPi_-"
   },
   "source": [
    "This codes makes neural network image classification model to make predictions object probabilities for object detection. We use CIFAR-10 dataset to train model (https://www.cs.toronto.edu/~kriz/cifar.html). So we can make 10 class image classification model such as dogs and automobiles and detect these classes later in a bigger image. The code generates the model_2.h5 weights."
   ]
  },
  {
   "cell_type": "markdown",
   "metadata": {
    "colab_type": "text",
    "id": "ZkcMHXPsPjAC"
   },
   "source": [
    "## Setup"
   ]
  },
  {
   "cell_type": "code",
   "execution_count": 2,
   "metadata": {
    "colab": {
     "base_uri": "https://localhost:8080/",
     "height": 35
    },
    "colab_type": "code",
    "id": "7rbwBPdaPjAF",
    "outputId": "40476e29-ca83-440e-87d3-378bb7b588a9"
   },
   "outputs": [
    {
     "name": "stdout",
     "output_type": "stream",
     "text": [
      "TensorFlow is already loaded. Please restart the runtime to change versions.\n"
     ]
    }
   ],
   "source": [
    "try:\n",
    "    %%tensorflow_version 2.x\n",
    "except:\n",
    "    pass\n",
    "\n",
    "from __future__ import absolute_import, division, print_function\n",
    "\n",
    "import tensorflow as tf\n",
    "from tensorflow.keras.datasets import cifar10\n",
    "from tensorflow.keras.utils import to_categorical\n",
    "from tensorflow.keras.models import Sequential\n",
    "from tensorflow.keras.layers import Dense, Flatten, Conv2D, MaxPooling2D, Dropout, BatchNormalization, Activation\n",
    "from tensorflow.keras.optimizers import Adam\n",
    "\n",
    "import numpy as np\n",
    "from matplotlib import pyplot as plt"
   ]
  },
  {
   "cell_type": "markdown",
   "metadata": {
    "colab_type": "text",
    "id": "nexM6QdYPjAQ"
   },
   "source": [
    "## Hyperparameters"
   ]
  },
  {
   "cell_type": "code",
   "execution_count": 0,
   "metadata": {
    "colab": {},
    "colab_type": "code",
    "id": "aQmkHCT_PjAW"
   },
   "outputs": [],
   "source": [
    "LEARNING_RATE = 0.0001\n",
    "VALIDATION_SPLIT = 0.05\n",
    "BATCH_SIZE = 64\n",
    "num_classes = 10\n",
    "EPOCHS = 20\n",
    "data_augmentation = False\n",
    "MODEL_PATH = 'model_2.h5'"
   ]
  },
  {
   "cell_type": "markdown",
   "metadata": {
    "colab_type": "text",
    "id": "8idHv0SgPjAi"
   },
   "source": [
    "## Data"
   ]
  },
  {
   "cell_type": "code",
   "execution_count": 4,
   "metadata": {
    "colab": {
     "base_uri": "https://localhost:8080/",
     "height": 104
    },
    "colab_type": "code",
    "id": "efAyRCyLPjAl",
    "outputId": "6a3f4614-ef1d-44d6-9f04-8705448105d0"
   },
   "outputs": [
    {
     "name": "stdout",
     "output_type": "stream",
     "text": [
      "Downloading data from https://www.cs.toronto.edu/~kriz/cifar-10-python.tar.gz\n",
      "170500096/170498071 [==============================] - 6s 0us/step\n",
      "x_train shape: (50000, 32, 32, 3)\n",
      "50000 train samples\n",
      "10000 test samples\n"
     ]
    }
   ],
   "source": [
    "(x_train, y_train), (x_test, y_test) = cifar10.load_data()\n",
    "print('x_train shape:', x_train.shape)\n",
    "print(x_train.shape[0], 'train samples')\n",
    "print(x_test.shape[0], 'test samples')"
   ]
  },
  {
   "cell_type": "markdown",
   "metadata": {
    "colab_type": "text",
    "id": "opA4yVH9PjA1"
   },
   "source": [
    "## Preprocessing"
   ]
  },
  {
   "cell_type": "code",
   "execution_count": 0,
   "metadata": {
    "colab": {},
    "colab_type": "code",
    "id": "x9p-vNkpPjA5"
   },
   "outputs": [],
   "source": [
    "# Convert class vectors to binary class matrices.\n",
    "y_train = to_categorical(y_train, num_classes)\n",
    "y_test = to_categorical(y_test, num_classes)\n",
    "\n",
    "# normalize\n",
    "x_train = x_train.astype('float32')\n",
    "x_test = x_test.astype('float32')\n",
    "x_train /= 255\n",
    "x_test /= 255"
   ]
  },
  {
   "cell_type": "markdown",
   "metadata": {
    "colab_type": "text",
    "id": "_0ukIFJ0PjBK"
   },
   "source": [
    "## Model"
   ]
  },
  {
   "cell_type": "code",
   "execution_count": 6,
   "metadata": {
    "colab": {
     "base_uri": "https://localhost:8080/",
     "height": 991
    },
    "colab_type": "code",
    "id": "7u000E8NPjBR",
    "outputId": "d5d6037e-412a-4033-ebc4-e10f27ec5285"
   },
   "outputs": [
    {
     "name": "stdout",
     "output_type": "stream",
     "text": [
      "WARNING:tensorflow:From /usr/local/lib/python3.6/dist-packages/tensorflow_core/python/ops/resource_variable_ops.py:1630: calling BaseResourceVariable.__init__ (from tensorflow.python.ops.resource_variable_ops) with constraint is deprecated and will be removed in a future version.\n",
      "Instructions for updating:\n",
      "If using Keras pass *_constraint arguments to layers.\n",
      "Model: \"sequential\"\n",
      "_________________________________________________________________\n",
      "Layer (type)                 Output Shape              Param #   \n",
      "=================================================================\n",
      "conv2d (Conv2D)              (None, 32, 32, 32)        896       \n",
      "_________________________________________________________________\n",
      "activation (Activation)      (None, 32, 32, 32)        0         \n",
      "_________________________________________________________________\n",
      "conv2d_1 (Conv2D)            (None, 32, 32, 32)        9248      \n",
      "_________________________________________________________________\n",
      "batch_normalization (BatchNo (None, 32, 32, 32)        128       \n",
      "_________________________________________________________________\n",
      "activation_1 (Activation)    (None, 32, 32, 32)        0         \n",
      "_________________________________________________________________\n",
      "max_pooling2d (MaxPooling2D) (None, 16, 16, 32)        0         \n",
      "_________________________________________________________________\n",
      "conv2d_2 (Conv2D)            (None, 16, 16, 64)        18496     \n",
      "_________________________________________________________________\n",
      "batch_normalization_1 (Batch (None, 16, 16, 64)        256       \n",
      "_________________________________________________________________\n",
      "activation_2 (Activation)    (None, 16, 16, 64)        0         \n",
      "_________________________________________________________________\n",
      "conv2d_3 (Conv2D)            (None, 16, 16, 64)        36928     \n",
      "_________________________________________________________________\n",
      "batch_normalization_2 (Batch (None, 16, 16, 64)        256       \n",
      "_________________________________________________________________\n",
      "activation_3 (Activation)    (None, 16, 16, 64)        0         \n",
      "_________________________________________________________________\n",
      "max_pooling2d_1 (MaxPooling2 (None, 8, 8, 64)          0         \n",
      "_________________________________________________________________\n",
      "flatten (Flatten)            (None, 4096)              0         \n",
      "_________________________________________________________________\n",
      "dense (Dense)                (None, 1024)              4195328   \n",
      "_________________________________________________________________\n",
      "activation_4 (Activation)    (None, 1024)              0         \n",
      "_________________________________________________________________\n",
      "dropout (Dropout)            (None, 1024)              0         \n",
      "_________________________________________________________________\n",
      "dense_1 (Dense)              (None, 512)               524800    \n",
      "_________________________________________________________________\n",
      "activation_5 (Activation)    (None, 512)               0         \n",
      "_________________________________________________________________\n",
      "dropout_1 (Dropout)          (None, 512)               0         \n",
      "_________________________________________________________________\n",
      "dense_2 (Dense)              (None, 10)                5130      \n",
      "_________________________________________________________________\n",
      "activation_6 (Activation)    (None, 10)                0         \n",
      "=================================================================\n",
      "Total params: 4,791,466\n",
      "Trainable params: 4,791,146\n",
      "Non-trainable params: 320\n",
      "_________________________________________________________________\n"
     ]
    }
   ],
   "source": [
    "# build model\n",
    "model = Sequential()\n",
    "model.add(Conv2D(32, (3, 3), padding='same',input_shape=x_train.shape[1:]))\n",
    "model.add(Activation('relu'))\n",
    "\n",
    "model.add(Conv2D(32, (3, 3), padding='same'))\n",
    "model.add(BatchNormalization())\n",
    "model.add(Activation('relu'))\n",
    "model.add(MaxPooling2D(pool_size=(2, 2)))\n",
    "\n",
    "model.add(Conv2D(64, (3, 3), padding='same'))\n",
    "model.add(BatchNormalization())\n",
    "model.add(Activation('relu'))\n",
    "\n",
    "model.add(Conv2D(64, (3, 3), padding='same'))\n",
    "model.add(BatchNormalization())\n",
    "model.add(Activation('relu'))\n",
    "model.add(MaxPooling2D(pool_size=(2, 2)))\n",
    "\n",
    "model.add(Flatten())\n",
    "model.add(Dense(1024))\n",
    "model.add(Activation('relu'))\n",
    "model.add(Dropout(0.5))\n",
    "\n",
    "model.add(Dense(512))\n",
    "model.add(Activation('relu'))\n",
    "model.add(Dropout(0.5))\n",
    "\n",
    "model.add(Dense(num_classes))\n",
    "model.add(Activation('softmax'))\n",
    "\n",
    "# compile model\n",
    "opt = Adam(lr=LEARNING_RATE)\n",
    "model.compile(loss='categorical_crossentropy',\n",
    "              optimizer=opt,\n",
    "              metrics=['accuracy'])\n",
    "\n",
    "# summary\n",
    "model.summary()"
   ]
  },
  {
   "cell_type": "markdown",
   "metadata": {
    "colab_type": "text",
    "id": "Ge-lJyRqPjBl"
   },
   "source": [
    "## Training"
   ]
  },
  {
   "cell_type": "code",
   "execution_count": 7,
   "metadata": {
    "colab": {
     "base_uri": "https://localhost:8080/",
     "height": 728
    },
    "colab_type": "code",
    "id": "aMmg_dLUPjBo",
    "outputId": "773c6db2-5c4c-4c78-d146-c23d90bd4fcd"
   },
   "outputs": [
    {
     "name": "stdout",
     "output_type": "stream",
     "text": [
      "Train on 47500 samples, validate on 2500 samples\n",
      "Epoch 1/20\n",
      "47500/47500 [==============================] - 15s 312us/sample - loss: 1.8247 - acc: 0.3453 - val_loss: 1.4192 - val_acc: 0.4924\n",
      "Epoch 2/20\n",
      "47500/47500 [==============================] - 8s 158us/sample - loss: 1.4460 - acc: 0.4779 - val_loss: 1.2420 - val_acc: 0.5564\n",
      "Epoch 3/20\n",
      "47500/47500 [==============================] - 8s 158us/sample - loss: 1.2708 - acc: 0.5428 - val_loss: 1.1067 - val_acc: 0.6116\n",
      "Epoch 4/20\n",
      "47500/47500 [==============================] - 8s 159us/sample - loss: 1.1262 - acc: 0.6011 - val_loss: 1.0229 - val_acc: 0.6396\n",
      "Epoch 5/20\n",
      "47500/47500 [==============================] - 8s 159us/sample - loss: 1.0225 - acc: 0.6375 - val_loss: 0.9897 - val_acc: 0.6532\n",
      "Epoch 6/20\n",
      "47500/47500 [==============================] - 8s 159us/sample - loss: 0.9380 - acc: 0.6704 - val_loss: 0.9660 - val_acc: 0.6576\n",
      "Epoch 7/20\n",
      "47500/47500 [==============================] - 8s 161us/sample - loss: 0.8719 - acc: 0.6921 - val_loss: 0.9432 - val_acc: 0.6720\n",
      "Epoch 8/20\n",
      "47500/47500 [==============================] - 8s 161us/sample - loss: 0.8121 - acc: 0.7148 - val_loss: 0.8727 - val_acc: 0.6944\n",
      "Epoch 9/20\n",
      "47500/47500 [==============================] - 8s 161us/sample - loss: 0.7644 - acc: 0.7311 - val_loss: 0.8413 - val_acc: 0.7132\n",
      "Epoch 10/20\n",
      "47500/47500 [==============================] - 8s 160us/sample - loss: 0.7175 - acc: 0.7479 - val_loss: 0.7969 - val_acc: 0.7244\n",
      "Epoch 11/20\n",
      "47500/47500 [==============================] - 8s 162us/sample - loss: 0.6687 - acc: 0.7660 - val_loss: 0.7936 - val_acc: 0.7236\n",
      "Epoch 12/20\n",
      "47500/47500 [==============================] - 8s 161us/sample - loss: 0.6293 - acc: 0.7783 - val_loss: 0.7712 - val_acc: 0.7360\n",
      "Epoch 13/20\n",
      "47500/47500 [==============================] - 8s 161us/sample - loss: 0.5929 - acc: 0.7909 - val_loss: 0.8056 - val_acc: 0.7256\n",
      "Epoch 14/20\n",
      "47500/47500 [==============================] - 8s 163us/sample - loss: 0.5519 - acc: 0.8051 - val_loss: 0.7934 - val_acc: 0.7404\n",
      "Epoch 15/20\n",
      "47500/47500 [==============================] - 8s 164us/sample - loss: 0.5217 - acc: 0.8162 - val_loss: 0.6965 - val_acc: 0.7720\n",
      "Epoch 16/20\n",
      "47500/47500 [==============================] - 8s 163us/sample - loss: 0.4924 - acc: 0.8265 - val_loss: 0.7363 - val_acc: 0.7700\n",
      "Epoch 17/20\n",
      "47500/47500 [==============================] - 8s 163us/sample - loss: 0.4619 - acc: 0.8375 - val_loss: 0.7305 - val_acc: 0.7552\n",
      "Epoch 18/20\n",
      "47500/47500 [==============================] - 8s 163us/sample - loss: 0.4307 - acc: 0.8477 - val_loss: 0.7244 - val_acc: 0.7676\n",
      "Epoch 19/20\n",
      "47500/47500 [==============================] - 8s 163us/sample - loss: 0.3996 - acc: 0.8582 - val_loss: 0.7578 - val_acc: 0.7684\n",
      "Epoch 20/20\n",
      "47500/47500 [==============================] - 8s 163us/sample - loss: 0.3807 - acc: 0.8648 - val_loss: 0.7654 - val_acc: 0.7688\n"
     ]
    }
   ],
   "source": [
    "history = model.fit(x_train, \n",
    "                    y_train,\n",
    "                    batch_size=BATCH_SIZE,\n",
    "                    epochs=EPOCHS,\n",
    "                    validation_split = VALIDATION_SPLIT,\n",
    "                    shuffle=False)"
   ]
  },
  {
   "cell_type": "markdown",
   "metadata": {
    "colab_type": "text",
    "id": "fgW2AjwbPjB2"
   },
   "source": [
    "## Evaluation"
   ]
  },
  {
   "cell_type": "code",
   "execution_count": 8,
   "metadata": {
    "colab": {
     "base_uri": "https://localhost:8080/",
     "height": 69
    },
    "colab_type": "code",
    "id": "vuJG4U_NPjB5",
    "outputId": "6f9e74e1-32ec-46d0-8b24-ffcf3cf087da"
   },
   "outputs": [
    {
     "name": "stdout",
     "output_type": "stream",
     "text": [
      "10000/10000 - 1s - loss: 0.7834 - acc: 0.7570\n",
      "\n",
      "Test accuracy: 0.757\n"
     ]
    }
   ],
   "source": [
    "test_loss, test_acc = model.evaluate(x_test,  y_test, verbose=2)\n",
    "print('\\nTest accuracy:', test_acc)"
   ]
  },
  {
   "cell_type": "code",
   "execution_count": 13,
   "metadata": {
    "colab": {
     "base_uri": "https://localhost:8080/",
     "height": 295
    },
    "colab_type": "code",
    "id": "J_X3znPmPjCD",
    "outputId": "a01b204c-5226-4cef-a3c0-7a121c7de826"
   },
   "outputs": [
    {
     "data": {
      "image/png": "[encoded data removed]",
      "text/plain": [
       "<Figure size 432x288 with 1 Axes>"
      ]
     },
     "metadata": {
      "tags": []
     },
     "output_type": "display_data"
    }
   ],
   "source": [
    "plt.plot(history.history['acc'], label='accuracy')\n",
    "plt.plot(history.history['val_acc'], label = 'val_accuracy')\n",
    "plt.xlabel('Epoch')\n",
    "plt.ylabel('Accuracy')\n",
    "plt.title('Accuracy plot')\n",
    "plt.ylim([0.5, 1])\n",
    "plt.legend(loc='lower right')\n",
    "plt.show()"
   ]
  },
  {
   "cell_type": "code",
   "execution_count": 14,
   "metadata": {
    "colab": {
     "base_uri": "https://localhost:8080/",
     "height": 295
    },
    "colab_type": "code",
    "id": "vOWIypHiPjCN",
    "outputId": "7af0a465-01eb-48a7-9f17-a775224d2201"
   },
   "outputs": [
    {
     "data": {
      "image/png": "[encoded data removed]",
      "text/plain": [
       "<Figure size 432x288 with 1 Axes>"
      ]
     },
     "metadata": {
      "tags": []
     },
     "output_type": "display_data"
    }
   ],
   "source": [
    "plt.plot(history.history['loss'], label='loss')\n",
    "plt.plot(history.history['val_loss'], label = 'val_loss')\n",
    "plt.xlabel('Epoch')\n",
    "plt.ylabel('Loss')\n",
    "plt.title('Loss plot')\n",
    "plt.legend(loc='upper right')\n",
    "plt.show()"
   ]
  },
  {
   "cell_type": "markdown",
   "metadata": {
    "colab_type": "text",
    "id": "kxAd6zFRPjCW"
   },
   "source": [
    "## Save weights"
   ]
  },
  {
   "cell_type": "code",
   "execution_count": 0,
   "metadata": {
    "colab": {},
    "colab_type": "code",
    "id": "o0FAJP5_PjCZ"
   },
   "outputs": [],
   "source": [
    "model.save(MODEL_PATH)"
   ]
  }
 ],
 "metadata": {
  "accelerator": "GPU",
  "colab": {
   "collapsed_sections": [],
   "name": "model_2.ipynb",
   "provenance": []
  },
  "kernelspec": {
   "display_name": "Python 3",
   "language": "python",
   "name": "python3"
  },
  "language_info": {
   "codemirror_mode": {
    "name": "ipython",
    "version": 3
   },
   "file_extension": ".py",
   "mimetype": "text/x-python",
   "name": "python",
   "nbconvert_exporter": "python",
   "pygments_lexer": "ipython3",
   "version": "3.7.1"
  }
 },
 "nbformat": 4,
 "nbformat_minor": 1
}
